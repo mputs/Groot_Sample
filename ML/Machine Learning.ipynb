{
 "cells": [
  {
   "cell_type": "markdown",
   "id": "d3ff5c51-5c35-4c83-b8f3-175204eebe73",
   "metadata": {},
   "source": [
    "# Machine learning 101\n",
    "Machine learning is not difficult, and that is what we will prove here.\n",
    "First we will load the lengths dataset, that was generated in the statistics notebook and use it for further explanation."
   ]
  },
  {
   "cell_type": "code",
   "execution_count": null,
   "id": "fc598910-7f2b-4d83-8388-c324724e42fc",
   "metadata": {
    "tags": []
   },
   "outputs": [],
   "source": [
    "import csv\n",
    "import numpy as np\n",
    "with open(\"lengths.csv\", \"rt\") as f:\n",
    "    dataset = np.array(list(csv.reader(f))).astype(float)\n",
    "\n",
    "lengths = dataset[:,0]\n",
    "gender = dataset[:,1]\n",
    "\n",
    "Nfemale = (gender == 1).sum()\n",
    "Nmale = (gender == 0).sum()\n",
    "N = gender.shape[0]"
   ]
  },
  {
   "cell_type": "markdown",
   "id": "63b76914-6d55-4852-8a4b-d78357cb3693",
   "metadata": {},
   "source": [
    "The histogram of the lengths is shown in the next graph. The average for men and women is shown as two red lines. The black line is exactly in between the two distributions."
   ]
  },
  {
   "cell_type": "code",
   "execution_count": null,
   "id": "e1a9fc1d-f4be-4145-8b9e-f0823c11bdef",
   "metadata": {
    "tags": []
   },
   "outputs": [],
   "source": [
    "import matplotlib.pyplot as plt\n",
    "plt.hist(lengths, bins=40);\n",
    "plt.vlines([170,184], 0, 1400000, 'r')\n",
    "plt.vlines([177], 0, 1400000, 'k')"
   ]
  },
  {
   "cell_type": "markdown",
   "id": "c747e325-cfa9-4c5e-bcaa-5f47e13b466e",
   "metadata": {
    "tags": []
   },
   "source": [
    "## Question\n",
    "given the fact that the average length of men in the netherlands is 1.84 and that of women in the netherlands is 1.70, what would be a strategy to determine the gender of each individual?\n",
    "\n",
    "Please describe the solution in the field below and try to write a short piece of code to determine the gender."
   ]
  },
  {
   "cell_type": "markdown",
   "id": "1609aea5-5524-4911-ac49-433c5c4bdf02",
   "metadata": {
    "tags": []
   },
   "source": [
    "## Answer\n"
   ]
  },
  {
   "cell_type": "code",
   "execution_count": null,
   "id": "ce6c5fd5-e54f-40e6-82f7-a5abb9819879",
   "metadata": {
    "tags": []
   },
   "outputs": [],
   "source": [
    "## try to write some code here\n",
    "## fill a variable y_ with your guesses of the gender\n",
    "## what should be in place of the question marks?\n",
    "y_ = lengths < ???\n"
   ]
  },
  {
   "cell_type": "markdown",
   "id": "b2af729b-0340-482a-a69c-d6bed5d32dc2",
   "metadata": {},
   "source": [
    "Let us first compare the real values with the estimated:"
   ]
  },
  {
   "cell_type": "code",
   "execution_count": null,
   "id": "59af7aaf-40cb-4e31-b593-c00c84d870ec",
   "metadata": {
    "tags": []
   },
   "outputs": [],
   "source": [
    "print(f\"Number of women: {y_.sum()} (true: {Nfemale})\")\n",
    "print(f\"Number of men: {(~y_).sum()} (true: {Nmale})\")"
   ]
  },
  {
   "cell_type": "markdown",
   "id": "f19f1bd0-fa77-43f3-a5ad-1d341efdb3ac",
   "metadata": {},
   "source": [
    "As we can see, the true value and the estimated values are not that different. We actually did not such a bad job. However, we can also look at the numbers of correct and incorrect classifications:"
   ]
  },
  {
   "cell_type": "code",
   "execution_count": null,
   "id": "2763d5cb-9da6-420f-bb20-dffa05248087",
   "metadata": {
    "tags": []
   },
   "outputs": [],
   "source": [
    "correct_f = (y_ & (gender==1)).sum()\n",
    "correct_m = (~y_ & (gender==0)).sum()\n",
    "incorrect_f = (y_ & (gender==0)).sum()\n",
    "incorrect_m = (~y_ & (gender==1)).sum()\n",
    "print(correct_f, correct_m, incorrect_f, incorrect_m)\n",
    "print(f\"misclassifications: {incorrect_f+incorrect_m}\")\n",
    "print(f\"correct classifications: {correct_f+correct_m}\")"
   ]
  },
  {
   "cell_type": "markdown",
   "id": "93d5306b-2c48-48fd-b4f6-0a98392ba971",
   "metadata": {},
   "source": [
    "A quality measure we sometimes use is the accuracy which is the number of correct classification divided by the total number of cases:"
   ]
  },
  {
   "cell_type": "code",
   "execution_count": null,
   "id": "0daa229c-7610-42e6-b8e7-d0333111c8d6",
   "metadata": {
    "tags": []
   },
   "outputs": [],
   "source": [
    "print(f\"Accuracy = {(correct_f+correct_m)/N}\")"
   ]
  },
  {
   "cell_type": "markdown",
   "id": "4db67a7e-2da0-4fee-855e-699e76b1c679",
   "metadata": {},
   "source": [
    "This means that the gender of about 84% of the population is correctly determined."
   ]
  },
  {
   "cell_type": "markdown",
   "id": "dade8157-78a2-43a2-b9a2-2569b9a2e1d3",
   "metadata": {},
   "source": [
    "## Scikit learn\n",
    "We are now going to use scikit learn. We will use the most simple classifier to work with: the so called logistic regression, and will try to see if we can find the same result."
   ]
  },
  {
   "cell_type": "code",
   "execution_count": null,
   "id": "0c2ac8d9-1849-4c28-a32f-8cab9511d1f9",
   "metadata": {
    "tags": []
   },
   "outputs": [],
   "source": [
    "from sklearn.linear_model import LogisticRegression\n",
    "X = lengths[0:100].reshape(100,1)\n",
    "y = gender[0:100]\n",
    "clf = LogisticRegression(random_state=0).fit(X, y)"
   ]
  },
  {
   "cell_type": "markdown",
   "id": "d8cdaf8b-a1bb-45de-b97c-072d978639fe",
   "metadata": {},
   "source": [
    "It is not important how it was calculated, but the criterium, that we estimated in the previous approach, is now automatically determined by the algorithm. Don't look at the calculation, but:"
   ]
  },
  {
   "cell_type": "code",
   "execution_count": null,
   "id": "f42ae852-7213-4343-b2b4-857b7e64efc4",
   "metadata": {
    "tags": []
   },
   "outputs": [],
   "source": [
    "print(f\"the criterium is equal to: {(-clf.intercept_[0] / clf.coef_[0])[0]}\")"
   ]
  },
  {
   "cell_type": "markdown",
   "id": "d9467765-c984-4beb-969e-1ea94018d701",
   "metadata": {},
   "source": [
    "## Question\n",
    "As you see, the criterium is pretty good with the value we used earlier. However, it is not completely the same. Could you think about reasons why it is not the same? "
   ]
  },
  {
   "cell_type": "markdown",
   "id": "efadc422-e9a6-4f5a-9e4f-4169c168080c",
   "metadata": {},
   "source": [
    "## Answer\n"
   ]
  },
  {
   "cell_type": "markdown",
   "id": "ca576948-c2ca-48eb-bdf9-6511c1b79a97",
   "metadata": {},
   "source": [
    "Let us now see how far the estimation of the number of women in the netherlands is of. for that, we first predict the gender based on the model and then we see how many are predicted as women:"
   ]
  },
  {
   "cell_type": "code",
   "execution_count": null,
   "id": "a8e4cc16-1853-40bd-a8a3-4d7c8454114e",
   "metadata": {
    "tags": []
   },
   "outputs": [],
   "source": [
    "y_ = clf.predict(lengths.reshape(N,1))\n",
    "print(f\"number of women: {y_.sum()} (real: {Nfemale})\")"
   ]
  },
  {
   "cell_type": "markdown",
   "id": "0857fc4e-581a-4857-902e-9ae09c68c04c",
   "metadata": {},
   "source": [
    "mmm, the number is not that accurate. how could that be? In the rest of the project, we are going to investigate this."
   ]
  },
  {
   "cell_type": "markdown",
   "id": "2fa43e96-f16d-46ee-b51a-0ab49875c4ff",
   "metadata": {},
   "source": [
    "# Populations and samples\n",
    "\n",
    "Like in the previous notebook, we finally want to count. We want to count, for instance, the number of females in the dutch population. Like shown in the previous cells, machine learning algorithms are not always very accurate at that point. A part of the uncertainty in the estimate comes from the small sample that we use for the training set. In the next cell, we will do the same as we did in determining the variance as a function of the sample size. Now we are going to look at the training set size and measure the variance. \n"
   ]
  },
  {
   "cell_type": "code",
   "execution_count": null,
   "id": "1ff4d239-da82-460e-accc-9eea2c1148ee",
   "metadata": {
    "tags": []
   },
   "outputs": [],
   "source": [
    "from tqdm import tqdm\n",
    "from numpy.random import default_rng\n",
    "rng = default_rng()\n",
    "\n",
    "variances = []\n",
    "SAMPLE_SIZES = [50,100,200,400,800,1600]\n",
    "for sample_size in tqdm(SAMPLE_SIZES):\n",
    "    estimated_f = []\n",
    "    for n in range(100):\n",
    "        # generate a training set as a sample of the population\n",
    "        training = rng.choice(dataset, replace = False, size = sample_size)\n",
    "        # we call the features in the training set X\n",
    "        X = training[:,0].reshape(sample_size,1)\n",
    "        # we call the target variable (gender) y\n",
    "        y = training[:,1]\n",
    "        # clf is the logistic regression model.\n",
    "        clf = LogisticRegression().fit(X, y)\n",
    "        # y_ are the prediction for the whole population\n",
    "        y_ = clf.predict(lengths.reshape(N,1))\n",
    "        estimated_f.append(y_.sum())\n",
    "    variances.append(np.array(estimated_f).var())\n",
    "    "
   ]
  },
  {
   "cell_type": "markdown",
   "id": "513e9582-1631-44af-b5bc-0de107ef04de",
   "metadata": {},
   "source": [
    "we generate the same plot as before:"
   ]
  },
  {
   "cell_type": "code",
   "execution_count": null,
   "id": "29fc6b47-15c2-4915-911c-cab50c649fae",
   "metadata": {
    "tags": []
   },
   "outputs": [],
   "source": [
    "import matplotlib.pyplot as plt\n",
    "variances = np.array(variances)\n",
    "sample_sizes = np.array(SAMPLE_SIZES)\n",
    "plt.plot(sample_sizes, variances)"
   ]
  },
  {
   "cell_type": "markdown",
   "id": "a582771c-b664-4023-98c6-311ee72560d9",
   "metadata": {},
   "source": [
    "as we can see, at about 600 trials, the variance does not change that much anymore."
   ]
  }
 ],
 "metadata": {
  "kernelspec": {
   "display_name": "Python 3 (ipykernel)",
   "language": "python",
   "name": "python3"
  },
  "language_info": {
   "codemirror_mode": {
    "name": "ipython",
    "version": 3
   },
   "file_extension": ".py",
   "mimetype": "text/x-python",
   "name": "python",
   "nbconvert_exporter": "python",
   "pygments_lexer": "ipython3",
   "version": "3.11.3"
  }
 },
 "nbformat": 4,
 "nbformat_minor": 5
}
